{
 "cells": [
  {
   "cell_type": "code",
   "execution_count": 1,
   "metadata": {},
   "outputs": [],
   "source": [
    "import numpy as np\n",
    "import h5py\n",
    "\n",
    "import GRANDhdf5DataRunLevel as DataRun\n",
    "import GRANDhdf5DataEventLevel as DataEvent\n",
    "import GRANDhdf5Utilities as Util"
   ]
  },
  {
   "cell_type": "code",
   "execution_count": 2,
   "metadata": {},
   "outputs": [],
   "source": [
    "file_name=\"/mnt/external/Pesquisa/GRAND/HDF5_tests/Charles/Run22_2020_11_09.hdf5\"\n",
    "input_hdf5= h5py.File(file_name,'r')"
   ]
  },
  {
   "cell_type": "code",
   "execution_count": 3,
   "metadata": {},
   "outputs": [],
   "source": [
    "run_list = list(input_hdf5.keys())"
   ]
  },
  {
   "cell_type": "code",
   "execution_count": 4,
   "metadata": {},
   "outputs": [
    {
     "data": {
      "text/plain": [
       "'/Run_22'"
      ]
     },
     "execution_count": 4,
     "metadata": {},
     "output_type": "execute_result"
    }
   ],
   "source": [
    "run = input_hdf5[run_list[0]]\n",
    "run.name"
   ]
  },
  {
   "cell_type": "markdown",
   "metadata": {},
   "source": [
    "# # Testing the file structure"
   ]
  },
  {
   "cell_type": "code",
   "execution_count": 5,
   "metadata": {},
   "outputs": [
    {
     "name": "stdout",
     "output_type": "stream",
     "text": [
      "CenterField\n",
      "DetectorInfo\n",
      "ElectronicsSettings\n",
      "Event_1594\n",
      "Event_1698\n",
      "Event_446\n",
      "Event_4718\n",
      "Event_538\n",
      "Event_5536\n",
      "Event_601\n",
      "Event_6353\n",
      "Event_6448\n",
      "Event_6589\n",
      "Event_6755\n",
      "Event_6824\n",
      "Event_7296\n",
      "Event_7651\n",
      "Event_789\n",
      "Event_8038\n",
      "Event_98\n",
      "Monitor\n"
     ]
    }
   ],
   "source": [
    "for name in run:\n",
    "    print(name)"
   ]
  },
  {
   "cell_type": "code",
   "execution_count": 6,
   "metadata": {},
   "outputs": [
    {
     "data": {
      "text/plain": [
       "<KeysViewHDF5 ['CenterField', 'DetectorInfo', 'ElectronicsSettings', 'Event_1594', 'Event_1698', 'Event_446', 'Event_4718', 'Event_538', 'Event_5536', 'Event_601', 'Event_6353', 'Event_6448', 'Event_6589', 'Event_6755', 'Event_6824', 'Event_7296', 'Event_7651', 'Event_789', 'Event_8038', 'Event_98', 'Monitor']>"
      ]
     },
     "execution_count": 6,
     "metadata": {},
     "output_type": "execute_result"
    }
   ],
   "source": [
    "run.keys()"
   ]
  },
  {
   "cell_type": "code",
   "execution_count": 7,
   "metadata": {},
   "outputs": [
    {
     "data": {
      "text/plain": [
       "<HDF5 dataset \"CenterField\": shape (1,), type \"|V200\">"
      ]
     },
     "execution_count": 7,
     "metadata": {},
     "output_type": "execute_result"
    }
   ],
   "source": [
    "run['CenterField']"
   ]
  },
  {
   "cell_type": "code",
   "execution_count": 8,
   "metadata": {},
   "outputs": [
    {
     "data": {
      "text/plain": [
       "('center_latitude',\n",
       " 'center_longitude',\n",
       " 'center_altitude',\n",
       " 'center_x',\n",
       " 'center_y')"
      ]
     },
     "execution_count": 8,
     "metadata": {},
     "output_type": "execute_result"
    }
   ],
   "source": [
    "run['CenterField'][()].dtype.names"
   ]
  },
  {
   "cell_type": "code",
   "execution_count": 9,
   "metadata": {},
   "outputs": [
    {
     "data": {
      "text/plain": [
       "array([(1, 38.852256 , 92.3454847, 2712.06, -46.784622  , -60.517822, b'GP35', 127, b'AERA'),\n",
       "       (2, 38.8524178, 92.3441787, 2712.11, -28.796738  ,  52.55267 , b'GP35', 105, b'AERA'),\n",
       "       (3, 38.8533595, 92.3446684, 2711.16,  75.895424  ,  10.155565, b'GP35', 126, b'AERA'),\n",
       "       (4, 38.852674 , 92.344811 , 2712.  ,  -0.31406537,  -2.190416, b'GP35',   0, b'R&S SCOPE')],\n",
       "      dtype={'names':['run_antenna_id','run_latitude','run_longitude','run_altitude','run_x','run_y','run_antenna_model','run_electronics_id','run_electronics_model'], 'formats':['<u2','<f8','<f8','<f4','<f4','<f4','S20','<u2','S20'], 'offsets':[0,16,8,24,28,32,36,56,58], 'itemsize':200})"
      ]
     },
     "execution_count": 9,
     "metadata": {},
     "output_type": "execute_result"
    }
   ],
   "source": [
    "run['DetectorInfo'][()]"
   ]
  },
  {
   "cell_type": "code",
   "execution_count": 10,
   "metadata": {},
   "outputs": [
    {
     "name": "stdout",
     "output_type": "stream",
     "text": [
      "CenterField\n",
      "DetectorInfo\n",
      "ElectronicsSettings\n",
      "Event_1594\n",
      "Event_1594/AntennaInfo\n",
      "Event_1594/EventHeader\n",
      "Event_1594/Traces_1\n",
      "Event_1594/Traces_1/ADC_X\n",
      "Event_1594/Traces_1/ADC_Y\n",
      "Event_1594/Traces_1/ADC_Z\n",
      "Event_1594/Traces_2\n",
      "Event_1594/Traces_2/ADC_X\n",
      "Event_1594/Traces_2/ADC_Y\n",
      "Event_1594/Traces_2/ADC_Z\n",
      "Event_1594/Traces_3\n",
      "Event_1594/Traces_3/ADC_X\n",
      "Event_1594/Traces_3/ADC_Y\n",
      "Event_1594/Traces_3/ADC_Z\n",
      "Event_1698\n",
      "Event_1698/AntennaInfo\n",
      "Event_1698/EventHeader\n",
      "Event_1698/Traces_1\n",
      "Event_1698/Traces_1/ADC_X\n",
      "Event_1698/Traces_1/ADC_Y\n",
      "Event_1698/Traces_1/ADC_Z\n",
      "Event_1698/Traces_2\n",
      "Event_1698/Traces_2/ADC_X\n",
      "Event_1698/Traces_2/ADC_Y\n",
      "Event_1698/Traces_2/ADC_Z\n",
      "Event_1698/Traces_3\n",
      "Event_1698/Traces_3/ADC_X\n",
      "Event_1698/Traces_3/ADC_Y\n",
      "Event_1698/Traces_3/ADC_Z\n",
      "Event_446\n",
      "Event_446/AntennaInfo\n",
      "Event_446/EventHeader\n",
      "Event_446/Traces_1\n",
      "Event_446/Traces_1/ADC_X\n",
      "Event_446/Traces_1/ADC_Y\n",
      "Event_446/Traces_1/ADC_Z\n",
      "Event_446/Traces_2\n",
      "Event_446/Traces_2/ADC_X\n",
      "Event_446/Traces_2/ADC_Y\n",
      "Event_446/Traces_2/ADC_Z\n",
      "Event_446/Traces_3\n",
      "Event_446/Traces_3/ADC_X\n",
      "Event_446/Traces_3/ADC_Y\n",
      "Event_446/Traces_3/ADC_Z\n",
      "Event_4718\n",
      "Event_4718/AntennaInfo\n",
      "Event_4718/EventHeader\n",
      "Event_4718/Traces_1\n",
      "Event_4718/Traces_1/ADC_X\n",
      "Event_4718/Traces_1/ADC_Y\n",
      "Event_4718/Traces_1/ADC_Z\n",
      "Event_4718/Traces_2\n",
      "Event_4718/Traces_2/ADC_X\n",
      "Event_4718/Traces_2/ADC_Y\n",
      "Event_4718/Traces_2/ADC_Z\n",
      "Event_4718/Traces_3\n",
      "Event_4718/Traces_3/ADC_X\n",
      "Event_4718/Traces_3/ADC_Y\n",
      "Event_4718/Traces_3/ADC_Z\n",
      "Event_538\n",
      "Event_538/AntennaInfo\n",
      "Event_538/EventHeader\n",
      "Event_538/Traces_1\n",
      "Event_538/Traces_1/ADC_X\n",
      "Event_538/Traces_1/ADC_Y\n",
      "Event_538/Traces_1/ADC_Z\n",
      "Event_538/Traces_2\n",
      "Event_538/Traces_2/ADC_X\n",
      "Event_538/Traces_2/ADC_Y\n",
      "Event_538/Traces_2/ADC_Z\n",
      "Event_538/Traces_Antenna_2_2\n",
      "Event_538/Traces_Antenna_2_2/ADC_X\n",
      "Event_538/Traces_Antenna_2_2/ADC_Y\n",
      "Event_538/Traces_Antenna_2_2/ADC_Z\n",
      "Event_5536\n",
      "Event_5536/AntennaInfo\n",
      "Event_5536/EventHeader\n",
      "Event_5536/Traces_1\n",
      "Event_5536/Traces_1/ADC_X\n",
      "Event_5536/Traces_1/ADC_Y\n",
      "Event_5536/Traces_1/ADC_Z\n",
      "Event_5536/Traces_2\n",
      "Event_5536/Traces_2/ADC_X\n",
      "Event_5536/Traces_2/ADC_Y\n",
      "Event_5536/Traces_2/ADC_Z\n",
      "Event_5536/Traces_Antenna_2_2\n",
      "Event_5536/Traces_Antenna_2_2/ADC_X\n",
      "Event_5536/Traces_Antenna_2_2/ADC_Y\n",
      "Event_5536/Traces_Antenna_2_2/ADC_Z\n",
      "Event_601\n",
      "Event_601/AntennaInfo\n",
      "Event_601/EventHeader\n",
      "Event_601/Traces_1\n",
      "Event_601/Traces_1/ADC_X\n",
      "Event_601/Traces_1/ADC_Y\n",
      "Event_601/Traces_1/ADC_Z\n",
      "Event_601/Traces_2\n",
      "Event_601/Traces_2/ADC_X\n",
      "Event_601/Traces_2/ADC_Y\n",
      "Event_601/Traces_2/ADC_Z\n",
      "Event_601/Traces_3\n",
      "Event_601/Traces_3/ADC_X\n",
      "Event_601/Traces_3/ADC_Y\n",
      "Event_601/Traces_3/ADC_Z\n",
      "Event_6353\n",
      "Event_6353/AntennaInfo\n",
      "Event_6353/EventHeader\n",
      "Event_6353/Traces_1\n",
      "Event_6353/Traces_1/ADC_X\n",
      "Event_6353/Traces_1/ADC_Y\n",
      "Event_6353/Traces_1/ADC_Z\n",
      "Event_6353/Traces_2\n",
      "Event_6353/Traces_2/ADC_X\n",
      "Event_6353/Traces_2/ADC_Y\n",
      "Event_6353/Traces_2/ADC_Z\n",
      "Event_6353/Traces_3\n",
      "Event_6353/Traces_3/ADC_X\n",
      "Event_6353/Traces_3/ADC_Y\n",
      "Event_6353/Traces_3/ADC_Z\n",
      "Event_6448\n",
      "Event_6448/AntennaInfo\n",
      "Event_6448/EventHeader\n",
      "Event_6448/Traces_1\n",
      "Event_6448/Traces_1/ADC_X\n",
      "Event_6448/Traces_1/ADC_Y\n",
      "Event_6448/Traces_1/ADC_Z\n",
      "Event_6448/Traces_2\n",
      "Event_6448/Traces_2/ADC_X\n",
      "Event_6448/Traces_2/ADC_Y\n",
      "Event_6448/Traces_2/ADC_Z\n",
      "Event_6448/Traces_3\n",
      "Event_6448/Traces_3/ADC_X\n",
      "Event_6448/Traces_3/ADC_Y\n",
      "Event_6448/Traces_3/ADC_Z\n",
      "Event_6589\n",
      "Event_6589/AntennaInfo\n",
      "Event_6589/EventHeader\n",
      "Event_6589/Traces_1\n",
      "Event_6589/Traces_1/ADC_X\n",
      "Event_6589/Traces_1/ADC_Y\n",
      "Event_6589/Traces_1/ADC_Z\n",
      "Event_6589/Traces_2\n",
      "Event_6589/Traces_2/ADC_X\n",
      "Event_6589/Traces_2/ADC_Y\n",
      "Event_6589/Traces_2/ADC_Z\n",
      "Event_6589/Traces_3\n",
      "Event_6589/Traces_3/ADC_X\n",
      "Event_6589/Traces_3/ADC_Y\n",
      "Event_6589/Traces_3/ADC_Z\n",
      "Event_6755\n",
      "Event_6755/AntennaInfo\n",
      "Event_6755/EventHeader\n",
      "Event_6755/Traces_1\n",
      "Event_6755/Traces_1/ADC_X\n",
      "Event_6755/Traces_1/ADC_Y\n",
      "Event_6755/Traces_1/ADC_Z\n",
      "Event_6755/Traces_2\n",
      "Event_6755/Traces_2/ADC_X\n",
      "Event_6755/Traces_2/ADC_Y\n",
      "Event_6755/Traces_2/ADC_Z\n",
      "Event_6755/Traces_3\n",
      "Event_6755/Traces_3/ADC_X\n",
      "Event_6755/Traces_3/ADC_Y\n",
      "Event_6755/Traces_3/ADC_Z\n",
      "Event_6824\n",
      "Event_6824/AntennaInfo\n",
      "Event_6824/EventHeader\n",
      "Event_6824/Traces_1\n",
      "Event_6824/Traces_1/ADC_X\n",
      "Event_6824/Traces_1/ADC_Y\n",
      "Event_6824/Traces_1/ADC_Z\n",
      "Event_6824/Traces_2\n",
      "Event_6824/Traces_2/ADC_X\n",
      "Event_6824/Traces_2/ADC_Y\n",
      "Event_6824/Traces_2/ADC_Z\n",
      "Event_6824/Traces_Antenna_2_2\n",
      "Event_6824/Traces_Antenna_2_2/ADC_X\n",
      "Event_6824/Traces_Antenna_2_2/ADC_Y\n",
      "Event_6824/Traces_Antenna_2_2/ADC_Z\n",
      "Event_7296\n",
      "Event_7296/AntennaInfo\n",
      "Event_7296/EventHeader\n",
      "Event_7296/Traces_1\n",
      "Event_7296/Traces_1/ADC_X\n",
      "Event_7296/Traces_1/ADC_Y\n",
      "Event_7296/Traces_1/ADC_Z\n",
      "Event_7296/Traces_2\n",
      "Event_7296/Traces_2/ADC_X\n",
      "Event_7296/Traces_2/ADC_Y\n",
      "Event_7296/Traces_2/ADC_Z\n",
      "Event_7296/Traces_3\n",
      "Event_7296/Traces_3/ADC_X\n",
      "Event_7296/Traces_3/ADC_Y\n",
      "Event_7296/Traces_3/ADC_Z\n",
      "Event_7651\n",
      "Event_7651/AntennaInfo\n",
      "Event_7651/EventHeader\n",
      "Event_7651/Traces_1\n",
      "Event_7651/Traces_1/ADC_X\n",
      "Event_7651/Traces_1/ADC_Y\n",
      "Event_7651/Traces_1/ADC_Z\n",
      "Event_7651/Traces_2\n",
      "Event_7651/Traces_2/ADC_X\n",
      "Event_7651/Traces_2/ADC_Y\n",
      "Event_7651/Traces_2/ADC_Z\n",
      "Event_7651/Traces_3\n",
      "Event_7651/Traces_3/ADC_X\n",
      "Event_7651/Traces_3/ADC_Y\n",
      "Event_7651/Traces_3/ADC_Z\n",
      "Event_789\n",
      "Event_789/AntennaInfo\n",
      "Event_789/EventHeader\n",
      "Event_789/Traces_1\n",
      "Event_789/Traces_1/ADC_X\n",
      "Event_789/Traces_1/ADC_Y\n",
      "Event_789/Traces_1/ADC_Z\n",
      "Event_789/Traces_2\n",
      "Event_789/Traces_2/ADC_X\n",
      "Event_789/Traces_2/ADC_Y\n",
      "Event_789/Traces_2/ADC_Z\n",
      "Event_789/Traces_3\n",
      "Event_789/Traces_3/ADC_X\n",
      "Event_789/Traces_3/ADC_Y\n",
      "Event_789/Traces_3/ADC_Z\n",
      "Event_8038\n",
      "Event_8038/AntennaInfo\n",
      "Event_8038/EventHeader\n",
      "Event_8038/Traces_1\n",
      "Event_8038/Traces_1/ADC_X\n",
      "Event_8038/Traces_1/ADC_Y\n",
      "Event_8038/Traces_1/ADC_Z\n",
      "Event_8038/Traces_2\n",
      "Event_8038/Traces_2/ADC_X\n",
      "Event_8038/Traces_2/ADC_Y\n",
      "Event_8038/Traces_2/ADC_Z\n",
      "Event_8038/Traces_3\n",
      "Event_8038/Traces_3/ADC_X\n",
      "Event_8038/Traces_3/ADC_Y\n",
      "Event_8038/Traces_3/ADC_Z\n",
      "Event_98\n",
      "Event_98/AntennaInfo\n",
      "Event_98/EventHeader\n",
      "Event_98/Traces_1\n",
      "Event_98/Traces_1/ADC_X\n",
      "Event_98/Traces_1/ADC_Y\n",
      "Event_98/Traces_1/ADC_Z\n",
      "Event_98/Traces_2\n",
      "Event_98/Traces_2/ADC_X\n",
      "Event_98/Traces_2/ADC_Y\n",
      "Event_98/Traces_2/ADC_Z\n",
      "Event_98/Traces_3\n",
      "Event_98/Traces_3/ADC_X\n",
      "Event_98/Traces_3/ADC_Y\n",
      "Event_98/Traces_3/ADC_Z\n",
      "Monitor\n",
      "Monitor/MonDetector\n"
     ]
    }
   ],
   "source": [
    "def printname(name):\n",
    "    print(name)\n",
    "    \n",
    "run.visit(printname)"
   ]
  },
  {
   "cell_type": "markdown",
   "metadata": {},
   "source": [
    "# Write to a file using Matias' methods"
   ]
  },
  {
   "cell_type": "code",
   "execution_count": 11,
   "metadata": {},
   "outputs": [],
   "source": [
    "output_hdf5 = h5py.File('Bruno_output.hdf5','a')"
   ]
  },
  {
   "cell_type": "code",
   "execution_count": 12,
   "metadata": {},
   "outputs": [],
   "source": [
    "# Define run level records\n",
    "center_field_input = np.zeros(1,DataRun.CenterField_dtype)\n",
    "detector_info_input = np.zeros(1,DataRun.DetectorInfo_dtype)\n",
    "electronics_settings_input = np.zeros(1,DataRun.ElectronicsSettings_dtype)"
   ]
  },
  {
   "cell_type": "code",
   "execution_count": 13,
   "metadata": {},
   "outputs": [],
   "source": [
    "# Define event level records\n",
    "antenna_info_input = np.zeros(1,DataEvent.AntennaInfo_dtype)\n",
    "event_header_input = np.zeros(1,DataEvent.EventHeader_dtype)"
   ]
  },
  {
   "cell_type": "code",
   "execution_count": 14,
   "metadata": {},
   "outputs": [],
   "source": [
    "# Fill run level variables\n",
    "RunID = run.name.split('_')[1]\n",
    "for field in run['CenterField'][()].dtype.names:\n",
    "    center_field_input[field] = run['CenterField'][()][field]\n",
    "    \n",
    "center_field_data = DataRun.DataRunAddCenterField(output_hdf5, RunID, center_field_input)"
   ]
  },
  {
   "cell_type": "code",
   "execution_count": 15,
   "metadata": {},
   "outputs": [],
   "source": [
    "for detector in range(len(run['DetectorInfo'][()])):\n",
    "    for field in run['DetectorInfo'][()][detector].dtype.names:\n",
    "        detector_info_input[field] = run['DetectorInfo'][()][detector][field]\n",
    "    detector_info_data = DataRun.DataRunAddDetectorInfo(output_hdf5, RunID, detector_info_input)"
   ]
  },
  {
   "cell_type": "code",
   "execution_count": 16,
   "metadata": {},
   "outputs": [],
   "source": [
    "for elec in range(len(run['ElectronicsSettings'][()])):\n",
    "    for field in run['ElectronicsSettings'][()][elec].dtype.names:\n",
    "        electronics_settings_input[field] = run['ElectronicsSettings'][()][elec][field]\n",
    "    electronics_settings_date = DataRun.DataRunAddElectronicsSettings(output_hdf5, RunID, electronics_settings_input)"
   ]
  },
  {
   "cell_type": "code",
   "execution_count": 17,
   "metadata": {},
   "outputs": [],
   "source": [
    "for evt_name, evt_dataset in run.items():\n",
    "    if evt_name.startswith('Event'):\n",
    "        for key, dataset in evt_dataset.items():\n",
    "            if key == 'AntennaInfo':\n",
    "                for antenna in range(len(dataset[()])):\n",
    "                    for field in dataset[()][antenna].dtype.names:\n",
    "                        antenna_info_input[field] = dataset[()][antenna][field]\n",
    "                    EventID = evt_name.split('_')[1]\n",
    "                    antenna_info_data = DataEvent.DataEventAddAntennaInfo(output_hdf5, RunID, EventID, antenna_info_input)\n",
    "            \n",
    "            if key == 'EventHeader':\n",
    "                for field in dataset[()].dtype.names:\n",
    "                    event_header_input[field] = dataset[()][field]\n",
    "                EventID = evt_name.split('_')[1]\n",
    "                event_header_data = DataEvent.DataEventAddEventHeader(output_hdf5, RunID, EventID, event_header_input)\n",
    "            \n",
    "            if key.startswith(\"Traces\"):\n",
    "                TraceX = dataset['ADC_X'][()]\n",
    "                TraceY = dataset['ADC_Y'][()]\n",
    "                TraceZ = dataset['ADC_Z'][()]\n",
    "                EventID = evt_name.split('_')[1]\n",
    "                AntennaID = key.split(\"_\",1)[1]\n",
    "                DataEvent.DataEventAddTraces(output_hdf5, RunID, EventID, AntennaID,TraceX,TraceY,TraceZ)"
   ]
  },
  {
   "cell_type": "code",
   "execution_count": 18,
   "metadata": {},
   "outputs": [],
   "source": [
    "output_hdf5.close()"
   ]
  }
 ],
 "metadata": {
  "kernelspec": {
   "display_name": "Python 3",
   "language": "python",
   "name": "python3"
  },
  "language_info": {
   "codemirror_mode": {
    "name": "ipython",
    "version": 3
   },
   "file_extension": ".py",
   "mimetype": "text/x-python",
   "name": "python",
   "nbconvert_exporter": "python",
   "pygments_lexer": "ipython3",
   "version": "3.8.5"
  }
 },
 "nbformat": 4,
 "nbformat_minor": 4
}
